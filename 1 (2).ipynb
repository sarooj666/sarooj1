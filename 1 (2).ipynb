{
 "cells": [
  {
   "cell_type": "code",
   "execution_count": 4,
   "id": "a72436cd",
   "metadata": {},
   "outputs": [
    {
     "name": "stdout",
     "output_type": "stream",
     "text": [
      "Hellow\n"
     ]
    }
   ],
   "source": [
    "s=\"hellow\"\n",
    "print(s.capitalize())"
   ]
  },
  {
   "cell_type": "code",
   "execution_count": 5,
   "id": "6a5c4d48",
   "metadata": {},
   "outputs": [
    {
     "name": "stdout",
     "output_type": "stream",
     "text": [
      "Hello\n",
      "HELLO\n",
      "  hello\n",
      "hello\n",
      "hello\n",
      "world\n"
     ]
    }
   ],
   "source": [
    "s=\"hello\"\n",
    "print(s.capitalize())  #capitalize #string; prints\"hello\"\n",
    "print(s.upper())        #covert #string to uppercase; prints\"HELLO\"\n",
    "print(s.rjust(7))     #right.justify a string, padding with spaces: prints\"hello\"\n",
    "print(s.center(5))\n",
    "print(s.replace('1','e11'))\n",
    "print('world'.strip())"
   ]
  },
  {
   "cell_type": "code",
   "execution_count": 6,
   "id": "bbe2cb4b",
   "metadata": {},
   "outputs": [
    {
     "name": "stdout",
     "output_type": "stream",
     "text": [
      "<class 'str'>\n",
      "False\n",
      "True\n",
      "False\n",
      "True\n"
     ]
    }
   ],
   "source": [
    "a= \"True\"\n",
    "f= False\n",
    "print (type(a))   #prints \"<class 'bool>'\"\n",
    "print(a and f)    #logical and ;prints\"false\"\n",
    "print(a or f)     #logical or ;prints\"true\"\n",
    "print(not a)      #logical not; prints \"false\"\n",
    "print(a !=f)      #logical XOR; prints \"true\""
   ]
  },
  {
   "cell_type": "code",
   "execution_count": 7,
   "id": "790e480a",
   "metadata": {},
   "outputs": [
    {
     "name": "stdout",
     "output_type": "stream",
     "text": [
      "<class 'str'>\n",
      "False\n",
      "True\n",
      "True\n",
      "True\n"
     ]
    }
   ],
   "source": [
    "a= \"True\"\n",
    "f= False\n",
    "print (type(a))   #prints \"<class 'bool>'\"\n",
    "print(a and f)    #logical and ;prints\"false\"\n",
    "print(a or f)     #logical or ;prints\"true\"\n",
    "print(not f)      #logical not; prints \"false\"\n",
    "print(a !=f)      #logical XOR; prints \"true\""
   ]
  },
  {
   "cell_type": "code",
   "execution_count": 8,
   "id": "d33cf6ff",
   "metadata": {},
   "outputs": [
    {
     "name": "stdout",
     "output_type": "stream",
     "text": [
      "True\n",
      "<class 'str'>\n",
      "True\n",
      "True\n",
      "False\n",
      "True\n"
     ]
    }
   ],
   "source": [
    "a= \"True\"\n",
    "f= False\n",
    "g = a and f or a and a or f\n",
    "print (g)\n",
    "print (type(a))   #prints \"<class 'bool>'\"\n",
    "print(a and f or a)    #logical and ;prints\"false\"\n",
    "print(a or f)     #logical or ;prints\"true\"\n",
    "print(not a)      #logical not; prints \"false\"\n",
    "print(a !=f)      #logical XOR; prints \"true\""
   ]
  },
  {
   "cell_type": "code",
   "execution_count": null,
   "id": "1470061c",
   "metadata": {},
   "outputs": [],
   "source": [
    "import numpy as np\n",
    "import matplotlib.pyplot as plt "
   ]
  },
  {
   "cell_type": "code",
   "execution_count": 9,
   "id": "f58e43b3",
   "metadata": {},
   "outputs": [
    {
     "name": "stdout",
     "output_type": "stream",
     "text": [
      "my name is sarooj\n"
     ]
    }
   ],
   "source": [
    "a=5\n",
    "b=5\n",
    "if b==a:\n",
    "    print(\"my name is sarooj\")"
   ]
  },
  {
   "cell_type": "code",
   "execution_count": 10,
   "id": "12dadfd6",
   "metadata": {},
   "outputs": [
    {
     "name": "stdout",
     "output_type": "stream",
     "text": [
      "0\n",
      "1\n",
      "2\n",
      "3\n",
      "4\n",
      "5\n",
      "6\n",
      "7\n",
      "8\n",
      "9\n",
      "10\n",
      "11\n",
      "12\n",
      "13\n",
      "14\n",
      "15\n",
      "16\n",
      "17\n",
      "18\n",
      "19\n"
     ]
    }
   ],
   "source": [
    "a=20\n",
    "if a==20:\n",
    "    for i in range(a):\n",
    "        print(i)"
   ]
  },
  {
   "cell_type": "code",
   "execution_count": 11,
   "id": "12406b57",
   "metadata": {},
   "outputs": [
    {
     "name": "stdout",
     "output_type": "stream",
     "text": [
      "130\n"
     ]
    }
   ],
   "source": [
    "x=8\n",
    "f=lambda x:2*x**2+2\n",
    "print (f(x))"
   ]
  },
  {
   "cell_type": "code",
   "execution_count": 12,
   "id": "6b537b26",
   "metadata": {},
   "outputs": [
    {
     "name": "stdout",
     "output_type": "stream",
     "text": [
      "enter x1:10\n",
      "enter x2:15\n"
     ]
    }
   ],
   "source": [
    "x1=float(input(\"enter x1:\"))\n",
    "x2=float(input(\"enter x2:\"))"
   ]
  },
  {
   "cell_type": "code",
   "execution_count": 13,
   "id": "d5e56fda",
   "metadata": {},
   "outputs": [
    {
     "data": {
      "text/plain": [
       "10.0"
      ]
     },
     "execution_count": 13,
     "metadata": {},
     "output_type": "execute_result"
    }
   ],
   "source": [
    "x1"
   ]
  },
  {
   "cell_type": "code",
   "execution_count": 14,
   "id": "0a30e939",
   "metadata": {},
   "outputs": [
    {
     "data": {
      "text/plain": [
       "15.0"
      ]
     },
     "execution_count": 14,
     "metadata": {},
     "output_type": "execute_result"
    }
   ],
   "source": [
    "x2"
   ]
  },
  {
   "cell_type": "code",
   "execution_count": 15,
   "id": "d48429b7",
   "metadata": {},
   "outputs": [
    {
     "name": "stdout",
     "output_type": "stream",
     "text": [
      "popi\n"
     ]
    }
   ],
   "source": [
    "x=\"popi\"\n",
    "print(x)"
   ]
  },
  {
   "cell_type": "code",
   "execution_count": null,
   "id": "3c50667c",
   "metadata": {},
   "outputs": [],
   "source": []
  }
 ],
 "metadata": {
  "kernelspec": {
   "display_name": "Python 3 (ipykernel)",
   "language": "python",
   "name": "python3"
  },
  "language_info": {
   "codemirror_mode": {
    "name": "ipython",
    "version": 3
   },
   "file_extension": ".py",
   "mimetype": "text/x-python",
   "name": "python",
   "nbconvert_exporter": "python",
   "pygments_lexer": "ipython3",
   "version": "3.9.7"
  }
 },
 "nbformat": 4,
 "nbformat_minor": 5
}
